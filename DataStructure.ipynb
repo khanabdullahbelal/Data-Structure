{
  "nbformat": 4,
  "nbformat_minor": 0,
  "metadata": {
    "colab": {
      "provenance": []
    },
    "kernelspec": {
      "name": "python3",
      "display_name": "Python 3"
    },
    "language_info": {
      "name": "python"
    }
  },
  "cells": [
    {
      "cell_type": "markdown",
      "source": [
        "1. What are data structures, and why are they important?\n",
        "  - They're organized ways to store and manage data, like lists, sets, and dictionaries.\n",
        " - They let you find, add, or change data efficiently.\n",
        " - Good structures make programs faster and easier to scale.\n",
        "   \n",
        "2. Explain the difference between mutable and immutable data types with examples?\n",
        "  - Mutable objects can be changed after they're created (like lists, sets, or dictionaries).\n",
        "  - Immutable objects stay the same once made (like strings or tuples).\n",
        "  - For example, you can update a list item, but changing a string actually makes a brand-new string.\n",
        "\n",
        "3. What are the main differences between lists and tuples in Python ?\n",
        "   - A list can be changed; a tuple can't.\n",
        "   - Lists use a bit more memory and can be slower when the data never changes.\n",
        "   - Tuples can be used as dictionary keys if they only contain immutable items.\n",
        "  \n",
        "4. Describe how dictionaries store data?\n",
        "    - They keep data as key–value pairs.\n",
        "    - Behind the scenes, Python uses a hash table to find keys quickly.\n",
        "    - That's why looking up a value by key is usually very fast.\n",
        "\n",
        "5. Why might you use a set instead of a list in Python?\n",
        "    - Sets automatically keep only unique items.\n",
        "    - Checking if something is in a set is usually faster.\n",
        "    - They're great for things like unions and intersections in math.\n",
        "\n",
        "6. What is a string in Python, and how is it different from a list?\n",
        "\n",
        "    - A string is just a sequence of characters, a list can hold anything.\n",
        "    - Strings can’t be changed in place, but lists can.\n",
        "    - String methods always return a new string.\n",
        "  \n",
        "7. How do tuples ensure data integrity in Python?\n",
        "\n",
        "     - Since they can’t change, tuples prevent accidental edits.\n",
        "     - You can safely use them as dictionary keys.\n",
        "     - They’re perfect when data should stay the same.\n",
        "\n",
        "8. What is a hash table, and how does it relate to dictionaries in Python?\n",
        "    - A hash table maps a key to a memory location using a hash function.\n",
        "    - Python dictionaries are built on this idea.\n",
        "    - That’s what makes key lookups almost instant.\n",
        "\n",
        "9. Can lists contain different data types in Python?\n",
        "   -  Yes, a single list can hold numbers, strings, or even other lists.\n",
        "   - Each element keeps its own type.\n",
        "   - Handy for collections of different kinds of data.\n",
        "\n",
        "10. Explain why strings are immutable in Python?\n",
        "    - They’re stored in a way that saves memory and makes them shareable.\n",
        "    - Python can safely reuse the same string in different places.\n",
        "    - Any “change” just creates a new string behind the scenes.\n",
        "\n",
        "11. What advantages do dictionaries offer over lists for certain tasks?\n",
        "    -  You can look up data by key instead of searching by position.\n",
        "    - They naturally pair data, like a name with a phone number.\n",
        "    - Updating or removing by key is quick.\n",
        "\n",
        "12. Describe a scenario where using a tuple would be preferable over a list?\n",
        "\n",
        "- When you need data that must never change, like GPS coordinates.\n",
        "- When you want to use it as a key in a dictionary or an element in a set.\n",
        "- For small, fixed data, they’re a bit faster.\n",
        "\n",
        "13. How do sets handle duplicate values in Python?\n",
        "\n",
        "- They automatically drop duplicates.\n",
        "- Only one copy of each unique value is kept.\n",
        "- Membership checks use hashing for speed.\n",
        "\n",
        "14. How does the “in” keyword work differently for lists and dictionaries?\n",
        "\n",
        "- In a list, it checks whether a value exists.\n",
        "- In a dictionary, it checks for a key, not a value.\n",
        "- That makes dictionary checks quick and direct.\n",
        "\n",
        "15. Can you modify the elements of a tuple? Explain why or why not?\n",
        "\n",
        "- You can’t change a tuple once it’s made.\n",
        "- You can’t reassign its items.\n",
        "- But if it holds a mutable object, that object itself could change internally.\n",
        "\n",
        "16. 16.What is a nested dictionary, and give an example of its use case?\n",
        "\n",
        "- It’s a dictionary where the values are other dictionaries.\n",
        "- Example: students = {'A': {'age': 20, 'grade': 'B'}}.\n",
        "- Useful for structured data, like JSON.\n",
        "\n",
        "17. Describe the time complexity of accessing elements in a dictionary?\n",
        "\n",
        "- Getting a value by key is usually constant time (O(1)).\n",
        "- Only in rare collision cases does it take longer.\n",
        "- Very efficient for big datasets.\n",
        "\n",
        "18. In what situations are lists preferred over dictionaries?\n",
        "\n",
        "- When order matters or duplicates are fine.\n",
        "- For simple sequences like a to-do list.\n",
        "- When numeric indexing feels more natural.\n",
        "\n",
        "19. Why are dictionaries considered unordered, and how does that affect data retrieval ?\n",
        "\n",
        "- They don’t rely on numeric positions but on hash keys.\n",
        "- Before Python 3.7 the insertion order wasn’t guaranteed.\n",
        "- You always fetch by key, not by position.\n",
        "\n",
        "20. Explain the difference between a list and a dictionary in terms of data retrieval ?\n",
        "\n",
        "- Lists use numeric indexes to get items.\n",
        "- Dictionaries use keys and hashing to find values.\n",
        "- Dictionaries let you look up data by meaningful names, not positions.\n",
        "\n",
        "\n",
        "\n",
        "\n",
        "\n",
        "\n",
        "\n",
        "\n"
      ],
      "metadata": {
        "id": "29yDDi5qxNzL"
      }
    },
    {
      "cell_type": "code",
      "source": [
        "# PRACTICAL QUESTION\n",
        "# 1.Write a code to create a string with your name and print it."
      ],
      "metadata": {
        "id": "-Szg9onN4mC0"
      },
      "execution_count": 1,
      "outputs": []
    },
    {
      "cell_type": "code",
      "source": [
        "name = \"Abdullah\"\n",
        "print(name)"
      ],
      "metadata": {
        "colab": {
          "base_uri": "https://localhost:8080/"
        },
        "id": "LrM6HyXK6VPs",
        "outputId": "4d877e36-dce6-4602-9c0b-90c7f3a5f700"
      },
      "execution_count": 2,
      "outputs": [
        {
          "output_type": "stream",
          "name": "stdout",
          "text": [
            "Abdullah\n"
          ]
        }
      ]
    },
    {
      "cell_type": "code",
      "source": [
        "# 2. Write a code to find the length of the string \"Hello World\""
      ],
      "metadata": {
        "id": "_vC0Js966nR2"
      },
      "execution_count": null,
      "outputs": []
    },
    {
      "cell_type": "code",
      "source": [
        "print(len(\"Hello World\"))"
      ],
      "metadata": {
        "colab": {
          "base_uri": "https://localhost:8080/"
        },
        "id": "HA2amD_Y6yQ-",
        "outputId": "cd115d1d-852e-4260-c54e-65c737ac1414"
      },
      "execution_count": 3,
      "outputs": [
        {
          "output_type": "stream",
          "name": "stdout",
          "text": [
            "11\n"
          ]
        }
      ]
    },
    {
      "cell_type": "code",
      "source": [
        "# 3. Write a code to slice the first 3 characters from the string \"Python Programming\""
      ],
      "metadata": {
        "id": "HbIPNCQZ6_e0"
      },
      "execution_count": null,
      "outputs": []
    },
    {
      "cell_type": "code",
      "source": [
        "print(\"Python Programming\"[:3])\n"
      ],
      "metadata": {
        "id": "IIJyespX7L40"
      },
      "execution_count": null,
      "outputs": []
    },
    {
      "cell_type": "code",
      "source": [
        "# 4.  Write a code to convert the string \"hello\" to uppercase"
      ],
      "metadata": {
        "id": "kiQogdZC7Tak"
      },
      "execution_count": null,
      "outputs": []
    },
    {
      "cell_type": "code",
      "source": [
        "print(\"hello\".upper())"
      ],
      "metadata": {
        "id": "OVmIIhu77hwl"
      },
      "execution_count": null,
      "outputs": []
    },
    {
      "cell_type": "code",
      "source": [
        "# 5. Write a code to replace the word \"apple\" with \"orange\" in the string \"I like apple\""
      ],
      "metadata": {
        "id": "N9a3iT1I7nUB"
      },
      "execution_count": null,
      "outputs": []
    },
    {
      "cell_type": "code",
      "source": [
        "print(\"I like apple\".replace(\"apple\", \"orange\"))"
      ],
      "metadata": {
        "id": "4Glv19S27v0x"
      },
      "execution_count": null,
      "outputs": []
    },
    {
      "cell_type": "code",
      "source": [
        "# 6. Write a code to create a list with numbers 1 to 5 and print it"
      ],
      "metadata": {
        "id": "iRHA4ABO701n"
      },
      "execution_count": null,
      "outputs": []
    },
    {
      "cell_type": "code",
      "source": [
        "numbers = [1, 2, 3, 4, 5]\n",
        "print(numbers)"
      ],
      "metadata": {
        "id": "Rfk6jjFw8DrF"
      },
      "execution_count": null,
      "outputs": []
    },
    {
      "cell_type": "code",
      "source": [
        "# 7. Write a code to append the number 10 to the list [1, 2, 3, 4]"
      ],
      "metadata": {
        "id": "evvX39OV8NBz"
      },
      "execution_count": null,
      "outputs": []
    },
    {
      "cell_type": "code",
      "source": [
        "nums = [1, 2, 3, 4]\n",
        "nums.append(10)\n",
        "print(nums)"
      ],
      "metadata": {
        "id": "Sw0IkUkU8TI7"
      },
      "execution_count": null,
      "outputs": []
    },
    {
      "cell_type": "code",
      "source": [
        "# 8. Write a code to remove the number 3 from the list [1, 2, 3, 4, 5]"
      ],
      "metadata": {
        "id": "S8_liwjS8XN3"
      },
      "execution_count": null,
      "outputs": []
    },
    {
      "cell_type": "code",
      "source": [
        "list = [1, 2, 3, 4, 5]\n",
        "list.remove(3)\n",
        "print(list)"
      ],
      "metadata": {
        "colab": {
          "base_uri": "https://localhost:8080/"
        },
        "id": "RzTgxc9X8dJi",
        "outputId": "f7b2c341-2120-41fa-a5b6-b80d1fd39b0d"
      },
      "execution_count": 4,
      "outputs": [
        {
          "output_type": "stream",
          "name": "stdout",
          "text": [
            "[1, 2, 4, 5]\n"
          ]
        }
      ]
    },
    {
      "cell_type": "code",
      "source": [
        "# 9. Write a code to access the second element in the list ['a', 'b', 'c', 'd']"
      ],
      "metadata": {
        "id": "IVa_JNEk8hM7"
      },
      "execution_count": null,
      "outputs": []
    },
    {
      "cell_type": "code",
      "source": [
        "letters = ['a', 'b', 'c', 'd']\n",
        "print(letters[1])"
      ],
      "metadata": {
        "id": "uzt5YdW780Db"
      },
      "execution_count": null,
      "outputs": []
    },
    {
      "cell_type": "code",
      "source": [
        "# 10. Write a code to reverse the list [10, 20, 30, 40, 50]"
      ],
      "metadata": {
        "id": "8CjkD4qb9APp"
      },
      "execution_count": null,
      "outputs": []
    },
    {
      "cell_type": "code",
      "source": [
        "data = [10, 20, 30, 40, 50]\n",
        "data.reverse()\n",
        "print(data)"
      ],
      "metadata": {
        "id": "mRrrVSmU9Dpo"
      },
      "execution_count": null,
      "outputs": []
    },
    {
      "cell_type": "code",
      "source": [
        "# 11. Write a code to create a tuple with the elements 100, 200, 300 and print it"
      ],
      "metadata": {
        "id": "ia639GNR9IJW"
      },
      "execution_count": null,
      "outputs": []
    },
    {
      "cell_type": "code",
      "source": [
        "tup = (100, 200, 300)\n",
        "print(tup)\n"
      ],
      "metadata": {
        "id": "SJah18Y19Pvk"
      },
      "execution_count": null,
      "outputs": []
    },
    {
      "cell_type": "code",
      "source": [
        "# 12. Write a code to access the second-to-last element of the tuple ('red', 'green', 'blue', 'yellow')."
      ],
      "metadata": {
        "id": "T1sxpiZN9X1h"
      },
      "execution_count": null,
      "outputs": []
    },
    {
      "cell_type": "code",
      "source": [
        "colors = ('red', 'green', 'blue', 'yellow')\n",
        "print(colors[-2])"
      ],
      "metadata": {
        "colab": {
          "base_uri": "https://localhost:8080/"
        },
        "id": "DcMIj5DZ9g96",
        "outputId": "fa178a2a-7665-4759-f6e1-b59c30611783"
      },
      "execution_count": 5,
      "outputs": [
        {
          "output_type": "stream",
          "name": "stdout",
          "text": [
            "blue\n"
          ]
        }
      ]
    },
    {
      "cell_type": "code",
      "source": [
        "# 13. Write a code to find the minimum number in the tuple (10, 20, 5, 15)."
      ],
      "metadata": {
        "id": "-5wdMye8903T"
      },
      "execution_count": null,
      "outputs": []
    },
    {
      "cell_type": "code",
      "source": [
        "print(min((10, 20, 5, 15)))"
      ],
      "metadata": {
        "id": "xeKm7gc797eO"
      },
      "execution_count": null,
      "outputs": []
    },
    {
      "cell_type": "code",
      "source": [
        "# 14. Write a code to find the index of the element \"cat\" in the tuple ('dog', 'cat', 'rabbit')."
      ],
      "metadata": {
        "id": "H7vRuBtb9_TB"
      },
      "execution_count": null,
      "outputs": []
    },
    {
      "cell_type": "code",
      "source": [
        "animals = ('dog', 'cat', 'rabbit')\n",
        "print(animals.index(\"cat\"))\n"
      ],
      "metadata": {
        "id": "Ad4cwrTg-D0m"
      },
      "execution_count": null,
      "outputs": []
    },
    {
      "cell_type": "code",
      "source": [
        "# 15. Write a code to create a tuple containing three different fruits and check if \"kiwi\" is in it."
      ],
      "metadata": {
        "id": "-Um5Vb6y-IYA"
      },
      "execution_count": null,
      "outputs": []
    },
    {
      "cell_type": "code",
      "source": [
        "fruits = (\"apple\", \"banana\", \"mango\")\n",
        "print(\"kiwi\" in fruits)\n"
      ],
      "metadata": {
        "id": "bo7zholT-QgD"
      },
      "execution_count": null,
      "outputs": []
    },
    {
      "cell_type": "code",
      "source": [
        "# 16. Write a code to create a set with the elements 'a', 'b', 'c' and print it."
      ],
      "metadata": {
        "id": "AD7WyNcY-T96"
      },
      "execution_count": null,
      "outputs": []
    },
    {
      "cell_type": "code",
      "source": [
        "s = {'a', 'b', 'c'}\n",
        "print(s)"
      ],
      "metadata": {
        "id": "FR3qA2FR-Y3_"
      },
      "execution_count": null,
      "outputs": []
    },
    {
      "cell_type": "code",
      "source": [
        "# 17. Write a code to clear all elements from the set {1, 2, 3, 4, 5}."
      ],
      "metadata": {
        "id": "ADfB9YwP-cGw"
      },
      "execution_count": null,
      "outputs": []
    },
    {
      "cell_type": "code",
      "source": [
        "s2 = {1, 2, 3, 4, 5}\n",
        "s2.clear()\n",
        "print(s2)"
      ],
      "metadata": {
        "id": "T_wHj4m6-l9O"
      },
      "execution_count": null,
      "outputs": []
    },
    {
      "cell_type": "code",
      "source": [
        "# 18. Write a code to remove the element 4 from the set {1, 2, 3, 4}."
      ],
      "metadata": {
        "id": "G-h-K2bf-nHL"
      },
      "execution_count": null,
      "outputs": []
    },
    {
      "cell_type": "code",
      "source": [
        "s3 = {1, 2, 3, 4}\n",
        "s3.remove(4)\n",
        "print(s3)"
      ],
      "metadata": {
        "id": "qZLFasr3-sfd"
      },
      "execution_count": null,
      "outputs": []
    },
    {
      "cell_type": "code",
      "source": [
        "# 19. Write a code to find the union of two sets {1, 2, 3} and {3, 4, 5}."
      ],
      "metadata": {
        "id": "xxRR79AE-wJ0"
      },
      "execution_count": null,
      "outputs": []
    },
    {
      "cell_type": "code",
      "source": [
        "print({1, 2, 3} | {3, 4, 5})"
      ],
      "metadata": {
        "colab": {
          "base_uri": "https://localhost:8080/"
        },
        "id": "SsyTGEYqI9cr",
        "outputId": "386b5c8d-7d0b-44d7-9c5b-4eaa0277f2e5"
      },
      "execution_count": 6,
      "outputs": [
        {
          "output_type": "stream",
          "name": "stdout",
          "text": [
            "{1, 2, 3, 4, 5}\n"
          ]
        }
      ]
    },
    {
      "cell_type": "code",
      "source": [
        "# 20. Write a code to find the intersection of two sets {1, 2, 3} and {2, 3, 4}."
      ],
      "metadata": {
        "id": "JHhhUSOkJINA"
      },
      "execution_count": null,
      "outputs": []
    },
    {
      "cell_type": "code",
      "source": [
        "print({1, 2, 3} & {2, 3, 4})"
      ],
      "metadata": {
        "colab": {
          "base_uri": "https://localhost:8080/"
        },
        "id": "lLkD09v8JP6g",
        "outputId": "9d9efb9e-2b55-49ec-a2b3-d3c736aa55b6"
      },
      "execution_count": 7,
      "outputs": [
        {
          "output_type": "stream",
          "name": "stdout",
          "text": [
            "{2, 3}\n"
          ]
        }
      ]
    },
    {
      "cell_type": "code",
      "source": [
        "# 21. Write a code to create a dictionary with the keys \"name\", \"age\", and \"city\", and print it."
      ],
      "metadata": {
        "id": "mP8tjrsVJVZY"
      },
      "execution_count": null,
      "outputs": []
    },
    {
      "cell_type": "code",
      "source": [
        "person = {\"name\": \"John\", \"age\": 25, \"city\": \"New York\"}\n",
        "print(person)"
      ],
      "metadata": {
        "colab": {
          "base_uri": "https://localhost:8080/"
        },
        "id": "IfxfnWLjJj9U",
        "outputId": "0971d4ab-409c-42da-f1c9-1c429bf1e486"
      },
      "execution_count": 8,
      "outputs": [
        {
          "output_type": "stream",
          "name": "stdout",
          "text": [
            "{'name': 'John', 'age': 25, 'city': 'New York'}\n"
          ]
        }
      ]
    },
    {
      "cell_type": "code",
      "source": [
        "# 22. Write a code to add a new key-value pair \"country\": \"USA\" to the dictionary {'name': 'John', 'age': 25}."
      ],
      "metadata": {
        "id": "cRsPXfs5JuSg"
      },
      "execution_count": null,
      "outputs": []
    },
    {
      "cell_type": "code",
      "source": [
        "d = {'name': 'John', 'age': 25}\n",
        "d[\"country\"] = \"USA\"\n",
        "print(d)"
      ],
      "metadata": {
        "colab": {
          "base_uri": "https://localhost:8080/"
        },
        "id": "eE0I57P7J1vl",
        "outputId": "e9b8d5e2-7efa-40fe-fa1c-b1cd843787dc"
      },
      "execution_count": 9,
      "outputs": [
        {
          "output_type": "stream",
          "name": "stdout",
          "text": [
            "{'name': 'John', 'age': 25, 'country': 'USA'}\n"
          ]
        }
      ]
    },
    {
      "cell_type": "code",
      "source": [
        "# 23. Write a code to access the value associated with the key \"name\" in the dictionary {'name': 'Alice', 'age': 30}."
      ],
      "metadata": {
        "id": "tfzFPiMbKQDt"
      },
      "execution_count": null,
      "outputs": []
    },
    {
      "cell_type": "code",
      "source": [
        "print({'name': 'Alice', 'age': 30}[\"name\"])"
      ],
      "metadata": {
        "id": "yq4nUhQNKS4r"
      },
      "execution_count": null,
      "outputs": []
    },
    {
      "cell_type": "code",
      "source": [
        "# 24. Write a code to remove the key \"age\" from the dictionary {'name': 'Bob', 'age': 22, 'city': 'New York'}."
      ],
      "metadata": {
        "id": "9Y2qFdkrKWnA"
      },
      "execution_count": null,
      "outputs": []
    },
    {
      "cell_type": "code",
      "source": [
        "d2 = {'name': 'Bob', 'age': 22, 'city': 'New York'}\n",
        "del d2[\"age\"]\n",
        "print(d2)"
      ],
      "metadata": {
        "id": "iKS1mEVnKZ8w"
      },
      "execution_count": null,
      "outputs": []
    },
    {
      "cell_type": "code",
      "source": [
        "# 25. Write a code to check if the key \"city\" exists in the dictionary {'name': 'Alice', 'city': 'Paris'}."
      ],
      "metadata": {
        "id": "MmR50vbeKmFE"
      },
      "execution_count": null,
      "outputs": []
    },
    {
      "cell_type": "code",
      "source": [
        "print(\"city\" in {'name': 'Alice', 'city': 'Paris'})"
      ],
      "metadata": {
        "id": "opUd34TxKpxA"
      },
      "execution_count": null,
      "outputs": []
    },
    {
      "cell_type": "code",
      "source": [
        "# 26. Write a code to create a list, a tuple, and a dictionary, and print them all."
      ],
      "metadata": {
        "id": "hh3kM3LpKtCp"
      },
      "execution_count": null,
      "outputs": []
    },
    {
      "cell_type": "code",
      "source": [
        "my_list = [1, 2, 3]\n",
        "my_tuple = (4, 5, 6)\n",
        "my_dict = {\"a\": 1, \"b\": 2}\n",
        "print(my_list, my_tuple, my_dict)"
      ],
      "metadata": {
        "id": "iq47Zw6PKxa2"
      },
      "execution_count": null,
      "outputs": []
    },
    {
      "cell_type": "code",
      "source": [
        "# 27. Write a code to create a list of 5 random numbers between 1 and 100, sort it in ascending order, and print the\n",
        "result.(replaced)"
      ],
      "metadata": {
        "id": "DRZzQzwsK1RN"
      },
      "execution_count": null,
      "outputs": []
    },
    {
      "cell_type": "code",
      "source": [
        "import random\n",
        "rand_list = random.sample(range(1, 101), 5)\n",
        "rand_list.sort()\n",
        "print(rand_list)\n"
      ],
      "metadata": {
        "colab": {
          "base_uri": "https://localhost:8080/"
        },
        "id": "dC6WsAvXK5aT",
        "outputId": "f8ef0e99-db07-4098-e5e8-9203407c97ca"
      },
      "execution_count": 10,
      "outputs": [
        {
          "output_type": "stream",
          "name": "stdout",
          "text": [
            "[3, 22, 27, 47, 95]\n"
          ]
        }
      ]
    },
    {
      "cell_type": "code",
      "source": [
        "# 28. Write a code to create a list with strings and print the element at the third index."
      ],
      "metadata": {
        "id": "mkuvQDEgLOXN"
      },
      "execution_count": null,
      "outputs": []
    },
    {
      "cell_type": "code",
      "source": [
        "words = [\"apple\", \"banana\", \"cherry\", \"date\", \"fig\"]\n",
        "print(words[3])"
      ],
      "metadata": {
        "id": "RFly295wLR4_"
      },
      "execution_count": null,
      "outputs": []
    },
    {
      "cell_type": "code",
      "source": [
        "# 29. Write a code to combine two dictionaries into one and print the result."
      ],
      "metadata": {
        "id": "RVNZQcCwLVuS"
      },
      "execution_count": null,
      "outputs": []
    },
    {
      "cell_type": "code",
      "source": [
        "d1 = {\"x\": 1, \"y\": 2}\n",
        "d2 = {\"z\": 3}\n",
        "d1.update(d2)\n",
        "print(d1)"
      ],
      "metadata": {
        "id": "Vpe8f5K0LaXr"
      },
      "execution_count": null,
      "outputs": []
    },
    {
      "cell_type": "code",
      "source": [
        "# 30. Write a code to convert a list of strings into a set."
      ],
      "metadata": {
        "id": "_keDSZqcLd4a"
      },
      "execution_count": null,
      "outputs": []
    },
    {
      "cell_type": "code",
      "source": [
        "str_list = [\"apple\", \"banana\", \"apple\"]\n",
        "print(set(str_list))"
      ],
      "metadata": {
        "id": "cRzErEnfLlU_"
      },
      "execution_count": null,
      "outputs": []
    }
  ]
}